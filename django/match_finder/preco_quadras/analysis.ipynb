{
 "cells": [
  {
   "cell_type": "markdown",
   "metadata": {},
   "source": [
    "# **Quadras**"
   ]
  },
  {
   "cell_type": "code",
   "execution_count": 1,
   "metadata": {},
   "outputs": [],
   "source": [
    "import matplotlib.pyplot as plt\n",
    "import pandas as pd\n",
    "import sqlite3\n",
    "import seaborn as sns"
   ]
  },
  {
   "cell_type": "code",
   "execution_count": 2,
   "metadata": {},
   "outputs": [
    {
     "data": {
      "text/html": [
       "<div>\n",
       "<style scoped>\n",
       "    .dataframe tbody tr th:only-of-type {\n",
       "        vertical-align: middle;\n",
       "    }\n",
       "\n",
       "    .dataframe tbody tr th {\n",
       "        vertical-align: top;\n",
       "    }\n",
       "\n",
       "    .dataframe thead th {\n",
       "        text-align: right;\n",
       "    }\n",
       "</style>\n",
       "<table border=\"1\" class=\"dataframe\">\n",
       "  <thead>\n",
       "    <tr style=\"text-align: right;\">\n",
       "      <th></th>\n",
       "      <th>tipo</th>\n",
       "      <th>rua</th>\n",
       "      <th>CEP</th>\n",
       "      <th>cidade</th>\n",
       "      <th>estado</th>\n",
       "      <th>alugada</th>\n",
       "      <th>telefone</th>\n",
       "      <th>estrelas</th>\n",
       "      <th>valor_hora</th>\n",
       "      <th>horario_abertura</th>\n",
       "      <th>horario_fechamento</th>\n",
       "      <th>descricao</th>\n",
       "    </tr>\n",
       "  </thead>\n",
       "  <tbody>\n",
       "    <tr>\n",
       "      <th>0</th>\n",
       "      <td>Vôlei</td>\n",
       "      <td>Viaduto João Gabriel Pinto</td>\n",
       "      <td>97342-658</td>\n",
       "      <td>Vieira</td>\n",
       "      <td>PA</td>\n",
       "      <td>0</td>\n",
       "      <td>21 3197-9558</td>\n",
       "      <td>1</td>\n",
       "      <td>43</td>\n",
       "      <td>8</td>\n",
       "      <td>16</td>\n",
       "      <td>Cerveja gelada</td>\n",
       "    </tr>\n",
       "    <tr>\n",
       "      <th>1</th>\n",
       "      <td>Futsal</td>\n",
       "      <td>Lagoa Dias</td>\n",
       "      <td>19286197</td>\n",
       "      <td>Ramos dos Dourados</td>\n",
       "      <td>SP</td>\n",
       "      <td>1</td>\n",
       "      <td>+55 31 1446 9531</td>\n",
       "      <td>0</td>\n",
       "      <td>7</td>\n",
       "      <td>8</td>\n",
       "      <td>17</td>\n",
       "      <td>Cerveja gelada</td>\n",
       "    </tr>\n",
       "    <tr>\n",
       "      <th>2</th>\n",
       "      <td>Futsal</td>\n",
       "      <td>Passarela das Neves</td>\n",
       "      <td>77459-359</td>\n",
       "      <td>Fogaça</td>\n",
       "      <td>RO</td>\n",
       "      <td>0</td>\n",
       "      <td>(061) 6147 6958</td>\n",
       "      <td>3</td>\n",
       "      <td>15</td>\n",
       "      <td>11</td>\n",
       "      <td>16</td>\n",
       "      <td>Cerveja gelada</td>\n",
       "    </tr>\n",
       "    <tr>\n",
       "      <th>3</th>\n",
       "      <td>Vôlei</td>\n",
       "      <td>Estação Davi Lucas Viana</td>\n",
       "      <td>85868269</td>\n",
       "      <td>Nogueira</td>\n",
       "      <td>PB</td>\n",
       "      <td>1</td>\n",
       "      <td>+55 (061) 1002-8002</td>\n",
       "      <td>4</td>\n",
       "      <td>31</td>\n",
       "      <td>9</td>\n",
       "      <td>16</td>\n",
       "      <td>Localização ótima</td>\n",
       "    </tr>\n",
       "    <tr>\n",
       "      <th>4</th>\n",
       "      <td>Basquete</td>\n",
       "      <td>Setor Nunes</td>\n",
       "      <td>36396214</td>\n",
       "      <td>Monteiro de Martins</td>\n",
       "      <td>MA</td>\n",
       "      <td>1</td>\n",
       "      <td>+55 (081) 5686 7143</td>\n",
       "      <td>0</td>\n",
       "      <td>14</td>\n",
       "      <td>7</td>\n",
       "      <td>19</td>\n",
       "      <td>Espaço fechado</td>\n",
       "    </tr>\n",
       "  </tbody>\n",
       "</table>\n",
       "</div>"
      ],
      "text/plain": [
       "       tipo                         rua        CEP               cidade  \\\n",
       "0     Vôlei  Viaduto João Gabriel Pinto  97342-658               Vieira   \n",
       "1    Futsal                  Lagoa Dias   19286197   Ramos dos Dourados   \n",
       "2    Futsal         Passarela das Neves  77459-359               Fogaça   \n",
       "3     Vôlei    Estação Davi Lucas Viana   85868269             Nogueira   \n",
       "4  Basquete                 Setor Nunes   36396214  Monteiro de Martins   \n",
       "\n",
       "  estado  alugada             telefone  estrelas  valor_hora  \\\n",
       "0     PA        0         21 3197-9558         1          43   \n",
       "1     SP        1     +55 31 1446 9531         0           7   \n",
       "2     RO        0      (061) 6147 6958         3          15   \n",
       "3     PB        1  +55 (061) 1002-8002         4          31   \n",
       "4     MA        1  +55 (081) 5686 7143         0          14   \n",
       "\n",
       "   horario_abertura  horario_fechamento          descricao  \n",
       "0                 8                  16     Cerveja gelada  \n",
       "1                 8                  17     Cerveja gelada  \n",
       "2                11                  16     Cerveja gelada  \n",
       "3                 9                  16  Localização ótima  \n",
       "4                 7                  19     Espaço fechado  "
      ]
     },
     "execution_count": 2,
     "metadata": {},
     "output_type": "execute_result"
    }
   ],
   "source": [
    "conn = sqlite3.connect('../db.sqlite3')\n",
    "cur = conn.cursor()\n",
    "\n",
    "query = '''\n",
    "SELECT * \n",
    "FROM base_quadra\n",
    "'''\n",
    "\n",
    "df = pd.read_sql(query, con = conn)\n",
    "\n",
    "cur.close()\n",
    "conn.close()\n",
    "\n",
    "df.head()"
   ]
  },
  {
   "cell_type": "code",
   "execution_count": 3,
   "metadata": {},
   "outputs": [],
   "source": [
    "flt = df[['estado', 'descricao', 'estrelas', 'valor_hora', 'tipo']]"
   ]
  },
  {
   "cell_type": "markdown",
   "metadata": {},
   "source": [
    "Algumas questões surgem quando pensamos na divisão das quadras. Em primeiro lugar, devemos pensar a respeito da distribuição delas: \n",
    "o número de quadras oferecido para cada esporte é semelhante? Vejamos:"
   ]
  },
  {
   "cell_type": "code",
   "execution_count": 4,
   "metadata": {},
   "outputs": [
    {
     "data": {
      "text/plain": [
       "[Text(0.5, 1.0, 'Quantidade de quadras para cada esporte'),\n",
       " Text(0.5, 0, 'Esporte'),\n",
       " Text(0, 0.5, 'n')]"
      ]
     },
     "execution_count": 4,
     "metadata": {},
     "output_type": "execute_result"
    },
    {
     "data": {
      "image/png": "[encoded data removed]",
      "text/plain": [
       "<Figure size 504x360 with 1 Axes>"
      ]
     },
     "metadata": {
      "needs_background": "light"
     },
     "output_type": "display_data"
    }
   ],
   "source": [
    "fig, ax = plt.subplots(figsize = (7, 5))\n",
    "\n",
    "sns.histplot(data = flt, \n",
    "             x = 'tipo',\n",
    "             shrink = 0.8,\n",
    "             ax = ax)\n",
    "\n",
    "ax.set(title = \"Quantidade de quadras para cada esporte\",\n",
    "       xlabel = \"Esporte\",\n",
    "       ylabel = \"n\")"
   ]
  },
  {
   "cell_type": "markdown",
   "metadata": {},
   "source": [
    "Note que o número de quadras de Handebol se destaca, com quase 15 unidades a mais que o esporte com menor número de quadras. Por outro lado, o número de quadras de Futebol e Basquete são praticamente iguais, e a mesma situação ocorre quando se trata de Futsal e Vôlei."
   ]
  },
  {
   "cell_type": "markdown",
   "metadata": {},
   "source": [
    "Mais importante do que o número de quadras é, na verdade, o cruzamento dessa informação com a descrição de cada uma. Isso pode evidenciar, na prática, uma série de informações a respeito das demandas dos jogadores, supondo que os locadores atendam às demandas dos clientes: "
   ]
  },
  {
   "cell_type": "code",
   "execution_count": 5,
   "metadata": {},
   "outputs": [
    {
     "data": {
      "text/plain": [
       "[Text(0.5, 1.0, 'Descrição das quadras para cada esporte'),\n",
       " Text(0.5, 0, 'Esporte'),\n",
       " Text(0, 0.5, 'n')]"
      ]
     },
     "execution_count": 5,
     "metadata": {},
     "output_type": "execute_result"
    },
    {
     "data": {
      "image/png": "[encoded data removed]",
      "text/plain": [
       "<Figure size 504x360 with 1 Axes>"
      ]
     },
     "metadata": {
      "needs_background": "light"
     },
     "output_type": "display_data"
    }
   ],
   "source": [
    "fig, ax = plt.subplots(figsize = (7,5))\n",
    "\n",
    "sns.histplot(data = flt, \n",
    "             x = 'tipo', hue = 'descricao',\n",
    "             shrink = 0.7,\n",
    "             multiple = 'dodge',\n",
    "             ax = ax)\n",
    "\n",
    "ax.set(title = \"Descrição das quadras para cada esporte\",\n",
    "       xlabel = \"Esporte\",\n",
    "       ylabel = \"n\")"
   ]
  },
  {
   "cell_type": "markdown",
   "metadata": {},
   "source": [
    "É imediato notar que as quadras de Futebol se destacam pela oferta de cerveja gelada. É verdade que o mesmo ocorre nas quadras de Basquete, mas de forma menos expressiva. De fato, é possível supor que jogares de futebol tenham uma demanda maior por cerveja após as partidas do que os jogadores de outros esportes. No caso do Handebol, por exemplo, os locadores de quadras tendem a ver mais importância em ofertar espaços fechados (o que é verdadeiramente importante em esportes desse tipo, inclusive para resguardar a integridade física dos jogadores) e com bom-custo benefício."
   ]
  },
  {
   "cell_type": "markdown",
   "metadata": {},
   "source": [
    "Além disso, outra pergunta importante é se existe algum esporte para o qual o aluguel de quadras é mais caro. E, nesse caso, também podemos nos perguntar se existe algum grau desse fato e a média de estrelas das quadras. Vejamos a partir da análise dos dois gráficos a seguir:"
   ]
  },
  {
   "cell_type": "code",
   "execution_count": 6,
   "metadata": {},
   "outputs": [
    {
     "data": {
      "text/html": [
       "<div>\n",
       "<style scoped>\n",
       "    .dataframe tbody tr th:only-of-type {\n",
       "        vertical-align: middle;\n",
       "    }\n",
       "\n",
       "    .dataframe tbody tr th {\n",
       "        vertical-align: top;\n",
       "    }\n",
       "\n",
       "    .dataframe thead th {\n",
       "        text-align: right;\n",
       "    }\n",
       "</style>\n",
       "<table border=\"1\" class=\"dataframe\">\n",
       "  <thead>\n",
       "    <tr style=\"text-align: right;\">\n",
       "      <th></th>\n",
       "      <th>tipo</th>\n",
       "      <th>estrelas</th>\n",
       "      <th>valor_hora</th>\n",
       "    </tr>\n",
       "  </thead>\n",
       "  <tbody>\n",
       "    <tr>\n",
       "      <th>0</th>\n",
       "      <td>Basquete</td>\n",
       "      <td>2.225000</td>\n",
       "      <td>27.900000</td>\n",
       "    </tr>\n",
       "    <tr>\n",
       "      <th>1</th>\n",
       "      <td>Futebol</td>\n",
       "      <td>2.756098</td>\n",
       "      <td>25.414634</td>\n",
       "    </tr>\n",
       "    <tr>\n",
       "      <th>2</th>\n",
       "      <td>Futsal</td>\n",
       "      <td>2.166667</td>\n",
       "      <td>28.416667</td>\n",
       "    </tr>\n",
       "    <tr>\n",
       "      <th>3</th>\n",
       "      <td>Handebol</td>\n",
       "      <td>2.625000</td>\n",
       "      <td>26.895833</td>\n",
       "    </tr>\n",
       "    <tr>\n",
       "      <th>4</th>\n",
       "      <td>Vôlei</td>\n",
       "      <td>2.800000</td>\n",
       "      <td>31.371429</td>\n",
       "    </tr>\n",
       "  </tbody>\n",
       "</table>\n",
       "</div>"
      ],
      "text/plain": [
       "       tipo  estrelas  valor_hora\n",
       "0  Basquete  2.225000   27.900000\n",
       "1   Futebol  2.756098   25.414634\n",
       "2    Futsal  2.166667   28.416667\n",
       "3  Handebol  2.625000   26.895833\n",
       "4     Vôlei  2.800000   31.371429"
      ]
     },
     "execution_count": 6,
     "metadata": {},
     "output_type": "execute_result"
    }
   ],
   "source": [
    "agrupado = flt.groupby(['tipo']).mean().reset_index()\n",
    "agrupado.head(10)"
   ]
  },
  {
   "cell_type": "code",
   "execution_count": 7,
   "metadata": {},
   "outputs": [
    {
     "data": {
      "text/plain": [
       "[Text(0.5, 1.0, 'Valor médio da hora do aluguel de quadras por estado'),\n",
       " Text(0.5, 0, 'Valor médio'),\n",
       " Text(0, 0.5, 'Estado')]"
      ]
     },
     "execution_count": 7,
     "metadata": {},
     "output_type": "execute_result"
    },
    {
     "data": {
      "image/png": "[encoded data removed]",
      "text/plain": [
       "<Figure size 504x360 with 1 Axes>"
      ]
     },
     "metadata": {
      "needs_background": "light"
     },
     "output_type": "display_data"
    }
   ],
   "source": [
    "fig, ax = plt.subplots(figsize = (7,5))\n",
    "\n",
    "sns.barplot(data = agrupado.sort_values(by = 'valor_hora', ascending = False),\n",
    "            y = 'tipo', x = 'valor_hora',\n",
    "            color = 'orange',\n",
    "            ax = ax)\n",
    "\n",
    "ax.set(title = \"Valor médio da hora do aluguel de quadras por estado\",\n",
    "       xlabel = \"Valor médio\",\n",
    "       ylabel = \"Estado\")"
   ]
  },
  {
   "cell_type": "code",
   "execution_count": 8,
   "metadata": {},
   "outputs": [
    {
     "data": {
      "text/plain": [
       "[Text(0.5, 1.0, 'Número médio de estrelas das quadras por estado'),\n",
       " Text(0.5, 0, 'Média de estrelas'),\n",
       " Text(0, 0.5, 'Estado')]"
      ]
     },
     "execution_count": 8,
     "metadata": {},
     "output_type": "execute_result"
    },
    {
     "data": {
      "image/png": "[encoded data removed]",
      "text/plain": [
       "<Figure size 504x360 with 1 Axes>"
      ]
     },
     "metadata": {
      "needs_background": "light"
     },
     "output_type": "display_data"
    }
   ],
   "source": [
    "fig, ax = plt.subplots(figsize = (7,5))\n",
    "\n",
    "sns.barplot(data = agrupado.sort_values(by = 'estrelas', ascending = False),\n",
    "            y = 'tipo', x = 'estrelas',\n",
    "            color = 'blue',\n",
    "            ax = ax)\n",
    "\n",
    "ax.set_title('Número médio de estrelas das quadras por estado')\n",
    "\n",
    "ax.set(title = \"Número médio de estrelas das quadras por estado\",\n",
    "       xlabel = \"Média de estrelas\",\n",
    "       ylabel = \"Estado\")"
   ]
  },
  {
   "cell_type": "markdown",
   "metadata": {},
   "source": [
    "Note que o valor médio da hora é mais caro no Vôlei e, de fato, o número médio de estrelas das quadras também é maior nesse esporte. No caso do Futsal, por outro lado, a média dos preços é a segunda maior, apesar de ter a pior média nas avaliações dos usuários. Outro ponto importante a se notar, inclusive, é que a média de estrelas é baixa em todos os esportes: sabendo que o máximo de estrelas é 5, mesmo a média mais alta (do Vôlei) é somente um pouco mais da metade. Ao mesmo tempo nota-se que o valor médio do aluguel é alto em todos os esportes, já que o valor mínimo de aluguel é de 5. É possível inferir, na prática, que o serviço de aluguel de quadras no cenário apontado pelo DataFrame em questão é inflacionado, e o custo-benefício é baixo em geral: afinal, o custo médio é alto e o número médio de estrelas é baixo."
   ]
  }
 ],
 "metadata": {
  "interpreter": {
   "hash": "31f2aee4e71d21fbe5cf8b01ff0e069b9275f58929596ceb00d14d90e3e16cd6"
  },
  "kernelspec": {
   "display_name": "Python 3.8.10 64-bit",
   "language": "python",
   "name": "python3"
  },
  "language_info": {
   "codemirror_mode": {
    "name": "ipython",
    "version": 3
   },
   "file_extension": ".py",
   "mimetype": "text/x-python",
   "name": "python",
   "nbconvert_exporter": "python",
   "pygments_lexer": "ipython3",
   "version": "3.8.10"
  },
  "orig_nbformat": 4
 },
 "nbformat": 4,
 "nbformat_minor": 2
}
